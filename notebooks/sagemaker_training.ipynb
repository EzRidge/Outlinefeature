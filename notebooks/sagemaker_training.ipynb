{
 "cells": [
  {
   "cell_type": "markdown",
   "metadata": {},
   "source": [
    "# Training Unified Roof Analysis Model on SageMaker\n",
    "\n",
    "This notebook demonstrates training our unified roof analysis model using two datasets:\n",
    "\n",
    "1. RID (Roof Information Dataset)\n",
    "   - Provides detailed roof segmentation\n",
    "   - Has ridge, valley, and eave lines\n",
    "   - Includes depth information\n",
    "\n",
    "2. Roofline-Extraction Dataset\n",
    "   - Focuses on 3D building reconstruction\n",
    "   - Has ridge, hip, and valley lines\n",
    "   - Includes depth maps\n",
    "\n",
    "## Steps:\n",
    "1. Set up SageMaker environment\n",
    "2. Prepare and verify datasets\n",
    "3. Configure and launch training\n",
    "4. Monitor progress\n",
    "5. Download and validate results"
   ]
  },
  {
   "cell_type": "code",
   "execution_count": null,
   "metadata": {},
   "source": [
    "import os\n",
    "import json\n",
    "import sagemaker\n",
    "from sagemaker.pytorch import PyTorch\n",
    "from sagemaker import get_execution_role\n",
    "import boto3\n",
    "from pathlib import Path\n",
    "\n",
    "# Initialize SageMaker session\n",
    "sagemaker_session = sagemaker.Session()\n",
    "role = get_execution_role()\n",
    "\n",
    "# S3 bucket for training data and model artifacts\n",
    "bucket = 'sagemaker-us-east-2-575108929659'\n",
    "prefix = 'unified-roof-model'\n",
    "\n",
    "print(f\"Using bucket: {bucket}\")"
   ]
  },
  {
   "cell_type": "markdown",
   "metadata": {},
   "source": [
    "## 2. Prepare and Verify Datasets\n",
    "\n",
    "Our datasets are already in S3 at these locations:\n",
    "- RID: s3://sagemaker-us-east-2-575108929659/roof-data/RID/\n",
    "- Roofline: s3://sagemaker-us-east-2-575108929659/roof-data/Roofline/"
   ]
  },
  {
   "cell_type": "code",
   "execution_count": null,
   "metadata": {},
   "source": [
    "# Define dataset paths\n",
    "dataset_paths = {\n",
    "    'rid': f's3://{bucket}/roof-data/RID',\n",
    "    'roofline': f's3://{bucket}/roof-data/Roofline'\n",
    "}\n",
    "\n",
    "# Verify datasets exist\n",
    "s3 = boto3.client('s3')\n",
    "\n",
    "def check_s3_path(s3_path):\n",
    "    path_parts = s3_path.replace('s3://', '').split('/')\n",
    "    bucket = path_parts[0]\n",
    "    prefix = '/'.join(path_parts[1:])\n",
    "    \n",
    "    response = s3.list_objects_v2(\n",
    "        Bucket=bucket,\n",
    "        Prefix=prefix,\n",
    "        MaxKeys=1\n",
    "    )\n",
    "    return 'Contents' in response\n",
    "\n",
    "for dataset, path in dataset_paths.items():\n",
    "    exists = check_s3_path(path)\n",
    "    print(f\"{dataset}: {'✓' if exists else '✗'} ({path})\")"
   ]
  },
  {
   "cell_type": "markdown",
   "metadata": {},
   "source": [
    "## 3. Configure Training Job"
   ]
  },
  {
   "cell_type": "code",
   "execution_count": null,
   "metadata": {},
   "source": [
    "# Configure hyperparameters\n",
    "hyperparameters = {\n",
    "    'epochs-per-dataset': 20,  # Train longer on each dataset\n",
    "    'batch-size': 16,\n",
    "    'learning-rate': 0.001,\n",
    "    'num-workers': 4,\n",
    "    'num-classes': 12,  # From our unified class mapping\n",
    "    'datasets': 'rid,roofline'  # Only use RID and Roofline\n",
    "}\n",
    "\n",
    "# Create PyTorch estimator\n",
    "estimator = PyTorch(\n",
    "    entry_point='sagemaker_train.py',\n",
    "    source_dir='src',\n",
    "    role=role,\n",
    "    framework_version='2.0.1',\n",
    "    py_version='py39',\n",
    "    instance_count=1,\n",
    "    instance_type='ml.p3.2xlarge',  # GPU instance\n",
    "    hyperparameters=hyperparameters,\n",
    "    output_path=f's3://{bucket}/{prefix}/output',\n",
    "    code_location=f's3://{bucket}/{prefix}/code',\n",
    "    metric_definitions=[\n",
    "        {'Name': 'train:loss', 'Regex': 'Training Loss: ([0-9\\.]+)'},\n",
    "        {'Name': 'val:loss', 'Regex': 'Validation Loss: ([0-9\\.]+)'},\n",
    "        {'Name': 'segments:loss', 'Regex': 'segments: ([0-9\\.]+)'},\n",
    "        {'Name': 'lines:loss', 'Regex': 'lines: ([0-9\\.]+)'},\n",
    "        {'Name': 'depth:loss', 'Regex': 'depth: ([0-9\\.]+)'}\n",
    "    ],\n",
    "    enable_sagemaker_metrics=True\n",
    ")"
   ]
  },
  {
   "cell_type": "markdown",
   "metadata": {},
   "source": [
    "## 4. Launch Training Job"
   ]
  },
  {
   "cell_type": "code",
   "execution_count": null,
   "metadata": {},
   "source": [
    "# Start training\n",
    "estimator.fit({\n",
    "    'rid': dataset_paths['rid'],\n",
    "    'roofline': dataset_paths['roofline']\n",
    "})"
   ]
  },
  {
   "cell_type": "markdown",
   "metadata": {},
   "source": [
    "## 5. Monitor Training Progress"
   ]
  },
  {
   "cell_type": "code",
   "execution_count": null,
   "metadata": {},
   "source": [
    "# Get training job name\n",
    "training_job_name = estimator.latest_training_job.name\n",
    "print(f'Training job name: {training_job_name}')\n",
    "\n",
    "# Get CloudWatch metrics URL\n",
    "region = sagemaker_session.boto_region_name\n",
    "cloudwatch_url = f'https://{region}.console.aws.amazon.com/cloudwatch/home?region={region}#metricsV2:graph=~(metrics~(~(~\\'AWS*2fSageMaker~\\'TrainingJobMetrics~\\'TrainingJobName~\\'{training_job_name}~\\'metric~\\'train*3aloss))~view~\\'timeSeries~stacked~false~region~\\'{region}~stat~\\'Average~period~60)'\n",
    "print(f'\\nView metrics at: {cloudwatch_url}')"
   ]
  },
  {
   "cell_type": "markdown",
   "metadata": {},
   "source": [
    "## 6. Download and Validate Results"
   ]
  },
  {
   "cell_type": "code",
   "execution_count": null,
   "metadata": {},
   "source": [
    "# Download model artifacts\n",
    "model_artifacts = estimator.model_data\n",
    "print(f'Model artifacts saved to: {model_artifacts}')\n",
    "\n",
    "# Download results\n",
    "results_path = f's3://{bucket}/{prefix}/output/results'\n",
    "!aws s3 cp {results_path} ./results --recursive"
   ]
  }
 ],
 "metadata": {
  "kernelspec": {
   "display_name": "Python 3",
   "language": "python",
   "name": "python3"
  },
  "language_info": {
   "codemirror_mode": {
    "name": "ipython",
    "version": 3
   },
   "file_extension": ".py",
   "mimetype": "text/x-python",
   "name": "python",
   "nbconvert_exporter": "python",
   "pygments_lexer": "ipython3",
   "version": "3.10.0"
  }
 },
 "nbformat": 4,
 "nbformat_minor": 4
}